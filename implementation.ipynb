{
 "cells": [
  {
   "cell_type": "code",
   "execution_count": 12,
   "metadata": {},
   "outputs": [],
   "source": [
    "from sqlalchemy import create_engine\n",
    "import pandas as pd\n",
    "\n"
   ]
  },
  {
   "cell_type": "code",
   "execution_count": 13,
   "metadata": {},
   "outputs": [],
   "source": [
    "# connect to the postgres db we created containing the transaction data using sqlalchemy\n",
    "# create a SQLAlchemy engine\n",
    "engine = create_engine('postgresql://djschor:test/9@localhost:5408/ramp')\n",
    "\n",
    "# input the query solution for  January 31's rolling 3 day average of total transaction amount processed per day\n",
    "query = \"\"\"\n",
    "WITH daily_total AS (\n",
    "    SELECT\n",
    "        DATE(transaction_time) AS day,\n",
    "        SUM(transaction_amount) AS total_amount\n",
    "    FROM transactions\n",
    "    WHERE DATE(transaction_time) BETWEEN '2021-01-29' AND '2021-01-31'\n",
    "    GROUP BY day\n",
    "),\n",
    "rolling_avg AS (\n",
    "    SELECT\n",
    "        day,\n",
    "        AVG(total_amount) OVER (\n",
    "            ORDER BY day\n",
    "            ROWS BETWEEN 2 PRECEDING AND CURRENT ROW\n",
    "        ) AS rolling_average\n",
    "    FROM daily_total\n",
    ")\n",
    "SELECT\n",
    "    day,\n",
    "    rolling_average\n",
    "FROM rolling_avg\n",
    "WHERE day = '2021-01-31';\n",
    "\"\"\"\n",
    "\n",
    "# load query results into a Pandas df\n",
    "rolling_avg = pd.read_sql(query, engine)\n"
   ]
  },
  {
   "cell_type": "code",
   "execution_count": 14,
   "metadata": {},
   "outputs": [
    {
     "data": {
      "text/html": [
       "<div>\n",
       "<style scoped>\n",
       "    .dataframe tbody tr th:only-of-type {\n",
       "        vertical-align: middle;\n",
       "    }\n",
       "\n",
       "    .dataframe tbody tr th {\n",
       "        vertical-align: top;\n",
       "    }\n",
       "\n",
       "    .dataframe thead th {\n",
       "        text-align: right;\n",
       "    }\n",
       "</style>\n",
       "<table border=\"1\" class=\"dataframe\">\n",
       "  <thead>\n",
       "    <tr style=\"text-align: right;\">\n",
       "      <th></th>\n",
       "      <th>day</th>\n",
       "      <th>rolling_average</th>\n",
       "    </tr>\n",
       "  </thead>\n",
       "  <tbody>\n",
       "    <tr>\n",
       "      <th>0</th>\n",
       "      <td>2021-01-31</td>\n",
       "      <td>682.15</td>\n",
       "    </tr>\n",
       "  </tbody>\n",
       "</table>\n",
       "</div>"
      ],
      "text/plain": [
       "          day  rolling_average\n",
       "0  2021-01-31           682.15"
      ]
     },
     "execution_count": 14,
     "metadata": {},
     "output_type": "execute_result"
    }
   ],
   "source": [
    "# look at results\n",
    "rolling_avg"
   ]
  },
  {
   "cell_type": "code",
   "execution_count": 15,
   "metadata": {},
   "outputs": [],
   "source": [
    "# close the database connection\n",
    "conn.close()\n"
   ]
  }
 ],
 "metadata": {
  "kernelspec": {
   "display_name": "hayback",
   "language": "python",
   "name": "python3"
  },
  "language_info": {
   "codemirror_mode": {
    "name": "ipython",
    "version": 3
   },
   "file_extension": ".py",
   "mimetype": "text/x-python",
   "name": "python",
   "nbconvert_exporter": "python",
   "pygments_lexer": "ipython3",
   "version": "3.9.12"
  },
  "orig_nbformat": 4
 },
 "nbformat": 4,
 "nbformat_minor": 2
}
